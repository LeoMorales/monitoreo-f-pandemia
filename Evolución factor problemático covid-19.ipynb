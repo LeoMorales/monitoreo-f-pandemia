{
 "cells": [
  {
   "cell_type": "markdown",
   "metadata": {},
   "source": [
    "# Evolución diaria del factor problemático (F) de la pandemia Argentina\n",
    "\n",
    "F = (Nivel de exposición * probabilidad de contagio + 1) \n",
    "\n",
    "I<sub>n+1</sub> = I<sub>n</sub> * F\n",
    "\n",
    "donde I<sub>n+1</sub> es la cantidad de casos para un día mientras que I<sub>n</sub> es la cantidad de casos para el día anterior, entonces\n",
    "\n",
    "&rarr; F = I<sub>n+1</sub> / I<sub>n</sub>\n",
    "\n",
    "<br>\n",
    "<br>\n",
    "<br>\n",
    "<br>\n",
    "__fuente__: Damián Pedraza @eltraductor_ok en https://youtu.be/-PUT0hZiZEw"
   ]
  },
  {
   "cell_type": "code",
   "execution_count": 1,
   "metadata": {},
   "outputs": [],
   "source": [
    "%matplotlib inline"
   ]
  },
  {
   "cell_type": "code",
   "execution_count": 2,
   "metadata": {},
   "outputs": [],
   "source": [
    "import pandas as pd\n",
    "import requests\n",
    "from io import StringIO"
   ]
  },
  {
   "cell_type": "markdown",
   "metadata": {},
   "source": [
    "## Lectura de los datos\n",
    "\n",
    "Disponible en: https://docs.google.com/spreadsheets/d/1Oso4ZC_mMOwtv6p5u65VpdzJQxnmF8bu6kxVygku_sc/edit?usp=sharing\n",
    "__fuente__: Informe diario del Minsiterio de Salud &rarr; https://www.argentina.gob.ar/coronavirus/informe-diario"
   ]
  },
  {
   "cell_type": "code",
   "execution_count": 3,
   "metadata": {},
   "outputs": [],
   "source": [
    "file_url = 'https://docs.google.com/spreadsheets/d/1Oso4ZC_mMOwtv6p5u65VpdzJQxnmF8bu6kxVygku_sc/export?format=csv&id=1Oso4ZC_mMOwtv6p5u65VpdzJQxnmF8bu6kxVygku_sc&gid=0'\n",
    "file_text = requests.get(file_url).text\n",
    "csv_raw = StringIO(file_text)\n",
    "data = pd.read_csv(csv_raw)"
   ]
  },
  {
   "cell_type": "markdown",
   "metadata": {},
   "source": [
    "Vista previa:"
   ]
  },
  {
   "cell_type": "code",
   "execution_count": 4,
   "metadata": {},
   "outputs": [
    {
     "data": {
      "text/html": [
       "<div>\n",
       "<style scoped>\n",
       "    .dataframe tbody tr th:only-of-type {\n",
       "        vertical-align: middle;\n",
       "    }\n",
       "\n",
       "    .dataframe tbody tr th {\n",
       "        vertical-align: top;\n",
       "    }\n",
       "\n",
       "    .dataframe thead th {\n",
       "        text-align: right;\n",
       "    }\n",
       "</style>\n",
       "<table border=\"1\" class=\"dataframe\">\n",
       "  <thead>\n",
       "    <tr style=\"text-align: right;\">\n",
       "      <th></th>\n",
       "      <th>dia</th>\n",
       "      <th>casos</th>\n",
       "      <th>fallecidos</th>\n",
       "    </tr>\n",
       "  </thead>\n",
       "  <tbody>\n",
       "    <tr>\n",
       "      <th>0</th>\n",
       "      <td>05/03/2020</td>\n",
       "      <td>1</td>\n",
       "      <td>0</td>\n",
       "    </tr>\n",
       "    <tr>\n",
       "      <th>1</th>\n",
       "      <td>06/03/2020</td>\n",
       "      <td>2</td>\n",
       "      <td>0</td>\n",
       "    </tr>\n",
       "    <tr>\n",
       "      <th>2</th>\n",
       "      <td>07/03/2020</td>\n",
       "      <td>2</td>\n",
       "      <td>0</td>\n",
       "    </tr>\n",
       "    <tr>\n",
       "      <th>3</th>\n",
       "      <td>08/03/2020</td>\n",
       "      <td>12</td>\n",
       "      <td>0</td>\n",
       "    </tr>\n",
       "    <tr>\n",
       "      <th>4</th>\n",
       "      <td>09/03/2020</td>\n",
       "      <td>17</td>\n",
       "      <td>0</td>\n",
       "    </tr>\n",
       "  </tbody>\n",
       "</table>\n",
       "</div>"
      ],
      "text/plain": [
       "          dia  casos  fallecidos\n",
       "0  05/03/2020      1           0\n",
       "1  06/03/2020      2           0\n",
       "2  07/03/2020      2           0\n",
       "3  08/03/2020     12           0\n",
       "4  09/03/2020     17           0"
      ]
     },
     "execution_count": 4,
     "metadata": {},
     "output_type": "execute_result"
    }
   ],
   "source": [
    "data.head()"
   ]
  },
  {
   "cell_type": "markdown",
   "metadata": {},
   "source": [
    "## Calcular Factor problemático"
   ]
  },
  {
   "cell_type": "code",
   "execution_count": 5,
   "metadata": {},
   "outputs": [],
   "source": [
    "data.loc[0, 'F'] = 0"
   ]
  },
  {
   "cell_type": "code",
   "execution_count": 6,
   "metadata": {},
   "outputs": [],
   "source": [
    "for hoy in range(1, len(data)):\n",
    "    # el F para hoy es: casos hoy / casos ayer \n",
    "    data.loc[hoy, 'F'] = data.loc[hoy, 'casos'] / data.loc[ hoy -1 , 'casos']"
   ]
  },
  {
   "cell_type": "code",
   "execution_count": 7,
   "metadata": {},
   "outputs": [
    {
     "data": {
      "text/html": [
       "<div>\n",
       "<style scoped>\n",
       "    .dataframe tbody tr th:only-of-type {\n",
       "        vertical-align: middle;\n",
       "    }\n",
       "\n",
       "    .dataframe tbody tr th {\n",
       "        vertical-align: top;\n",
       "    }\n",
       "\n",
       "    .dataframe thead th {\n",
       "        text-align: right;\n",
       "    }\n",
       "</style>\n",
       "<table border=\"1\" class=\"dataframe\">\n",
       "  <thead>\n",
       "    <tr style=\"text-align: right;\">\n",
       "      <th></th>\n",
       "      <th>dia</th>\n",
       "      <th>casos</th>\n",
       "      <th>fallecidos</th>\n",
       "      <th>F</th>\n",
       "    </tr>\n",
       "  </thead>\n",
       "  <tbody>\n",
       "    <tr>\n",
       "      <th>0</th>\n",
       "      <td>05/03/2020</td>\n",
       "      <td>1</td>\n",
       "      <td>0</td>\n",
       "      <td>0.000000</td>\n",
       "    </tr>\n",
       "    <tr>\n",
       "      <th>1</th>\n",
       "      <td>06/03/2020</td>\n",
       "      <td>2</td>\n",
       "      <td>0</td>\n",
       "      <td>2.000000</td>\n",
       "    </tr>\n",
       "    <tr>\n",
       "      <th>2</th>\n",
       "      <td>07/03/2020</td>\n",
       "      <td>2</td>\n",
       "      <td>0</td>\n",
       "      <td>1.000000</td>\n",
       "    </tr>\n",
       "    <tr>\n",
       "      <th>3</th>\n",
       "      <td>08/03/2020</td>\n",
       "      <td>12</td>\n",
       "      <td>0</td>\n",
       "      <td>6.000000</td>\n",
       "    </tr>\n",
       "    <tr>\n",
       "      <th>4</th>\n",
       "      <td>09/03/2020</td>\n",
       "      <td>17</td>\n",
       "      <td>0</td>\n",
       "      <td>1.416667</td>\n",
       "    </tr>\n",
       "    <tr>\n",
       "      <th>5</th>\n",
       "      <td>10/03/2020</td>\n",
       "      <td>19</td>\n",
       "      <td>1</td>\n",
       "      <td>1.117647</td>\n",
       "    </tr>\n",
       "    <tr>\n",
       "      <th>6</th>\n",
       "      <td>11/03/2020</td>\n",
       "      <td>21</td>\n",
       "      <td>1</td>\n",
       "      <td>1.105263</td>\n",
       "    </tr>\n",
       "    <tr>\n",
       "      <th>7</th>\n",
       "      <td>12/03/2020</td>\n",
       "      <td>31</td>\n",
       "      <td>1</td>\n",
       "      <td>1.476190</td>\n",
       "    </tr>\n",
       "    <tr>\n",
       "      <th>8</th>\n",
       "      <td>13/03/2020</td>\n",
       "      <td>34</td>\n",
       "      <td>2</td>\n",
       "      <td>1.096774</td>\n",
       "    </tr>\n",
       "    <tr>\n",
       "      <th>9</th>\n",
       "      <td>14/03/2020</td>\n",
       "      <td>45</td>\n",
       "      <td>2</td>\n",
       "      <td>1.323529</td>\n",
       "    </tr>\n",
       "    <tr>\n",
       "      <th>10</th>\n",
       "      <td>15/03/2020</td>\n",
       "      <td>56</td>\n",
       "      <td>2</td>\n",
       "      <td>1.244444</td>\n",
       "    </tr>\n",
       "    <tr>\n",
       "      <th>11</th>\n",
       "      <td>16/03/2020</td>\n",
       "      <td>65</td>\n",
       "      <td>2</td>\n",
       "      <td>1.160714</td>\n",
       "    </tr>\n",
       "    <tr>\n",
       "      <th>12</th>\n",
       "      <td>17/03/2020</td>\n",
       "      <td>79</td>\n",
       "      <td>2</td>\n",
       "      <td>1.215385</td>\n",
       "    </tr>\n",
       "    <tr>\n",
       "      <th>13</th>\n",
       "      <td>18/03/2020</td>\n",
       "      <td>97</td>\n",
       "      <td>2</td>\n",
       "      <td>1.227848</td>\n",
       "    </tr>\n",
       "    <tr>\n",
       "      <th>14</th>\n",
       "      <td>19/03/2020</td>\n",
       "      <td>128</td>\n",
       "      <td>3</td>\n",
       "      <td>1.319588</td>\n",
       "    </tr>\n",
       "    <tr>\n",
       "      <th>15</th>\n",
       "      <td>20/03/2020</td>\n",
       "      <td>158</td>\n",
       "      <td>3</td>\n",
       "      <td>1.234375</td>\n",
       "    </tr>\n",
       "    <tr>\n",
       "      <th>16</th>\n",
       "      <td>21/03/2020</td>\n",
       "      <td>225</td>\n",
       "      <td>4</td>\n",
       "      <td>1.424051</td>\n",
       "    </tr>\n",
       "  </tbody>\n",
       "</table>\n",
       "</div>"
      ],
      "text/plain": [
       "           dia  casos  fallecidos         F\n",
       "0   05/03/2020      1           0  0.000000\n",
       "1   06/03/2020      2           0  2.000000\n",
       "2   07/03/2020      2           0  1.000000\n",
       "3   08/03/2020     12           0  6.000000\n",
       "4   09/03/2020     17           0  1.416667\n",
       "5   10/03/2020     19           1  1.117647\n",
       "6   11/03/2020     21           1  1.105263\n",
       "7   12/03/2020     31           1  1.476190\n",
       "8   13/03/2020     34           2  1.096774\n",
       "9   14/03/2020     45           2  1.323529\n",
       "10  15/03/2020     56           2  1.244444\n",
       "11  16/03/2020     65           2  1.160714\n",
       "12  17/03/2020     79           2  1.215385\n",
       "13  18/03/2020     97           2  1.227848\n",
       "14  19/03/2020    128           3  1.319588\n",
       "15  20/03/2020    158           3  1.234375\n",
       "16  21/03/2020    225           4  1.424051"
      ]
     },
     "execution_count": 7,
     "metadata": {},
     "output_type": "execute_result"
    }
   ],
   "source": [
    "data"
   ]
  },
  {
   "cell_type": "markdown",
   "metadata": {},
   "source": [
    "## Graficar"
   ]
  },
  {
   "cell_type": "code",
   "execution_count": 8,
   "metadata": {},
   "outputs": [
    {
     "data": {
      "image/png": "[encoded data removed]",
      "text/plain": [
       "<Figure size 864x576 with 1 Axes>"
      ]
     },
     "metadata": {},
     "output_type": "display_data"
    }
   ],
   "source": [
    "import matplotlib.pyplot as plt\n",
    "from matplotlib import style\n",
    "style.use('ggplot')\n",
    "\n",
    "ax = plt.gca()\n",
    "\n",
    "data.F.plot(label='valor F', figsize=(12, 8))\n",
    "plt.axhline(data.F.mean(), color='g', linestyle='--', label='media')\n",
    "\n",
    "plt.ylabel('F')\n",
    "plt.xlabel('día')\n",
    "plt.legend()\n",
    "\n",
    "plt.show()"
   ]
  },
  {
   "cell_type": "raw",
   "metadata": {},
   "source": [
    "\n",
    "\n",
    "\n"
   ]
  },
  {
   "cell_type": "code",
   "execution_count": null,
   "metadata": {},
   "outputs": [],
   "source": []
  },
  {
   "cell_type": "code",
   "execution_count": 9,
   "metadata": {},
   "outputs": [],
   "source": [
    "data.loc[0, 'evolucion_de_la_media_de_F'] = data.loc[0, 'F']"
   ]
  },
  {
   "cell_type": "code",
   "execution_count": 10,
   "metadata": {},
   "outputs": [],
   "source": [
    "for hoy in range(1, len(data)):\n",
    "    # el F para hoy es: casos hoy / casos ayer \n",
    "    data.loc[hoy, 'evolucion_de_la_media_de_F'] = data.loc[0:hoy, 'F'].mean()"
   ]
  },
  {
   "cell_type": "code",
   "execution_count": 11,
   "metadata": {},
   "outputs": [
    {
     "data": {
      "text/html": [
       "<div>\n",
       "<style scoped>\n",
       "    .dataframe tbody tr th:only-of-type {\n",
       "        vertical-align: middle;\n",
       "    }\n",
       "\n",
       "    .dataframe tbody tr th {\n",
       "        vertical-align: top;\n",
       "    }\n",
       "\n",
       "    .dataframe thead th {\n",
       "        text-align: right;\n",
       "    }\n",
       "</style>\n",
       "<table border=\"1\" class=\"dataframe\">\n",
       "  <thead>\n",
       "    <tr style=\"text-align: right;\">\n",
       "      <th></th>\n",
       "      <th>dia</th>\n",
       "      <th>casos</th>\n",
       "      <th>fallecidos</th>\n",
       "      <th>F</th>\n",
       "      <th>evolucion_de_la_media_de_F</th>\n",
       "    </tr>\n",
       "  </thead>\n",
       "  <tbody>\n",
       "    <tr>\n",
       "      <th>0</th>\n",
       "      <td>05/03/2020</td>\n",
       "      <td>1</td>\n",
       "      <td>0</td>\n",
       "      <td>0.000000</td>\n",
       "      <td>0.000000</td>\n",
       "    </tr>\n",
       "    <tr>\n",
       "      <th>1</th>\n",
       "      <td>06/03/2020</td>\n",
       "      <td>2</td>\n",
       "      <td>0</td>\n",
       "      <td>2.000000</td>\n",
       "      <td>1.000000</td>\n",
       "    </tr>\n",
       "    <tr>\n",
       "      <th>2</th>\n",
       "      <td>07/03/2020</td>\n",
       "      <td>2</td>\n",
       "      <td>0</td>\n",
       "      <td>1.000000</td>\n",
       "      <td>1.000000</td>\n",
       "    </tr>\n",
       "    <tr>\n",
       "      <th>3</th>\n",
       "      <td>08/03/2020</td>\n",
       "      <td>12</td>\n",
       "      <td>0</td>\n",
       "      <td>6.000000</td>\n",
       "      <td>2.250000</td>\n",
       "    </tr>\n",
       "    <tr>\n",
       "      <th>4</th>\n",
       "      <td>09/03/2020</td>\n",
       "      <td>17</td>\n",
       "      <td>0</td>\n",
       "      <td>1.416667</td>\n",
       "      <td>2.083333</td>\n",
       "    </tr>\n",
       "    <tr>\n",
       "      <th>5</th>\n",
       "      <td>10/03/2020</td>\n",
       "      <td>19</td>\n",
       "      <td>1</td>\n",
       "      <td>1.117647</td>\n",
       "      <td>1.922386</td>\n",
       "    </tr>\n",
       "    <tr>\n",
       "      <th>6</th>\n",
       "      <td>11/03/2020</td>\n",
       "      <td>21</td>\n",
       "      <td>1</td>\n",
       "      <td>1.105263</td>\n",
       "      <td>1.805654</td>\n",
       "    </tr>\n",
       "    <tr>\n",
       "      <th>7</th>\n",
       "      <td>12/03/2020</td>\n",
       "      <td>31</td>\n",
       "      <td>1</td>\n",
       "      <td>1.476190</td>\n",
       "      <td>1.764471</td>\n",
       "    </tr>\n",
       "    <tr>\n",
       "      <th>8</th>\n",
       "      <td>13/03/2020</td>\n",
       "      <td>34</td>\n",
       "      <td>2</td>\n",
       "      <td>1.096774</td>\n",
       "      <td>1.690282</td>\n",
       "    </tr>\n",
       "    <tr>\n",
       "      <th>9</th>\n",
       "      <td>14/03/2020</td>\n",
       "      <td>45</td>\n",
       "      <td>2</td>\n",
       "      <td>1.323529</td>\n",
       "      <td>1.653607</td>\n",
       "    </tr>\n",
       "    <tr>\n",
       "      <th>10</th>\n",
       "      <td>15/03/2020</td>\n",
       "      <td>56</td>\n",
       "      <td>2</td>\n",
       "      <td>1.244444</td>\n",
       "      <td>1.616410</td>\n",
       "    </tr>\n",
       "    <tr>\n",
       "      <th>11</th>\n",
       "      <td>16/03/2020</td>\n",
       "      <td>65</td>\n",
       "      <td>2</td>\n",
       "      <td>1.160714</td>\n",
       "      <td>1.578436</td>\n",
       "    </tr>\n",
       "    <tr>\n",
       "      <th>12</th>\n",
       "      <td>17/03/2020</td>\n",
       "      <td>79</td>\n",
       "      <td>2</td>\n",
       "      <td>1.215385</td>\n",
       "      <td>1.550509</td>\n",
       "    </tr>\n",
       "    <tr>\n",
       "      <th>13</th>\n",
       "      <td>18/03/2020</td>\n",
       "      <td>97</td>\n",
       "      <td>2</td>\n",
       "      <td>1.227848</td>\n",
       "      <td>1.527462</td>\n",
       "    </tr>\n",
       "    <tr>\n",
       "      <th>14</th>\n",
       "      <td>19/03/2020</td>\n",
       "      <td>128</td>\n",
       "      <td>3</td>\n",
       "      <td>1.319588</td>\n",
       "      <td>1.513603</td>\n",
       "    </tr>\n",
       "    <tr>\n",
       "      <th>15</th>\n",
       "      <td>20/03/2020</td>\n",
       "      <td>158</td>\n",
       "      <td>3</td>\n",
       "      <td>1.234375</td>\n",
       "      <td>1.496152</td>\n",
       "    </tr>\n",
       "    <tr>\n",
       "      <th>16</th>\n",
       "      <td>21/03/2020</td>\n",
       "      <td>225</td>\n",
       "      <td>4</td>\n",
       "      <td>1.424051</td>\n",
       "      <td>1.491910</td>\n",
       "    </tr>\n",
       "  </tbody>\n",
       "</table>\n",
       "</div>"
      ],
      "text/plain": [
       "           dia  casos  fallecidos         F  evolucion_de_la_media_de_F\n",
       "0   05/03/2020      1           0  0.000000                    0.000000\n",
       "1   06/03/2020      2           0  2.000000                    1.000000\n",
       "2   07/03/2020      2           0  1.000000                    1.000000\n",
       "3   08/03/2020     12           0  6.000000                    2.250000\n",
       "4   09/03/2020     17           0  1.416667                    2.083333\n",
       "5   10/03/2020     19           1  1.117647                    1.922386\n",
       "6   11/03/2020     21           1  1.105263                    1.805654\n",
       "7   12/03/2020     31           1  1.476190                    1.764471\n",
       "8   13/03/2020     34           2  1.096774                    1.690282\n",
       "9   14/03/2020     45           2  1.323529                    1.653607\n",
       "10  15/03/2020     56           2  1.244444                    1.616410\n",
       "11  16/03/2020     65           2  1.160714                    1.578436\n",
       "12  17/03/2020     79           2  1.215385                    1.550509\n",
       "13  18/03/2020     97           2  1.227848                    1.527462\n",
       "14  19/03/2020    128           3  1.319588                    1.513603\n",
       "15  20/03/2020    158           3  1.234375                    1.496152\n",
       "16  21/03/2020    225           4  1.424051                    1.491910"
      ]
     },
     "execution_count": 11,
     "metadata": {},
     "output_type": "execute_result"
    }
   ],
   "source": [
    "data"
   ]
  },
  {
   "cell_type": "code",
   "execution_count": 12,
   "metadata": {},
   "outputs": [
    {
     "data": {
      "image/png": "[encoded data removed]",
      "text/plain": [
       "<Figure size 864x576 with 1 Axes>"
      ]
     },
     "metadata": {},
     "output_type": "display_data"
    }
   ],
   "source": [
    "import matplotlib.pyplot as plt\n",
    "ax = plt.gca()\n",
    "\n",
    "data.F.plot(label='valor F', figsize=(12, 8))\n",
    "data.evolucion_de_la_media_de_F.plot(label='media diaria de F')\n",
    "\n",
    "plt.axhline(data.F.mean(), color='g', linestyle='--', label='media F')\n",
    "\n",
    "plt.ylabel('F')\n",
    "plt.xlabel('día')\n",
    "plt.legend()\n",
    "\n",
    "plt.show()"
   ]
  },
  {
   "cell_type": "markdown",
   "metadata": {},
   "source": [
    "WIP:\n",
    "- Lectura desde drive: ok\n",
    "- Cargar datasets de otros países\n",
    "- ..."
   ]
  },
  {
   "cell_type": "code",
   "execution_count": null,
   "metadata": {},
   "outputs": [],
   "source": []
  },
  {
   "cell_type": "code",
   "execution_count": null,
   "metadata": {},
   "outputs": [],
   "source": []
  },
  {
   "cell_type": "code",
   "execution_count": null,
   "metadata": {},
   "outputs": [],
   "source": []
  },
  {
   "cell_type": "markdown",
   "metadata": {},
   "source": [
    "# España:"
   ]
  },
  {
   "cell_type": "code",
   "execution_count": 13,
   "metadata": {},
   "outputs": [],
   "source": [
    "# datos desde: https://rpubs.com/mohnabeel/covid-19_in_Spain\n",
    "data_esp = pd.read_csv('https://raw.githubusercontent.com/datadista/datasets/master/COVID%2019/ccaa_covid19_casos.csv')"
   ]
  },
  {
   "cell_type": "code",
   "execution_count": 14,
   "metadata": {},
   "outputs": [
    {
     "data": {
      "text/html": [
       "<div>\n",
       "<style scoped>\n",
       "    .dataframe tbody tr th:only-of-type {\n",
       "        vertical-align: middle;\n",
       "    }\n",
       "\n",
       "    .dataframe tbody tr th {\n",
       "        vertical-align: top;\n",
       "    }\n",
       "\n",
       "    .dataframe thead th {\n",
       "        text-align: right;\n",
       "    }\n",
       "</style>\n",
       "<table border=\"1\" class=\"dataframe\">\n",
       "  <thead>\n",
       "    <tr style=\"text-align: right;\">\n",
       "      <th></th>\n",
       "      <th>cod_ine</th>\n",
       "      <th>CCAA</th>\n",
       "      <th>27/02/2020</th>\n",
       "      <th>28/02/2020</th>\n",
       "      <th>29/02/2020</th>\n",
       "      <th>01/03/2020</th>\n",
       "      <th>02/03/2020</th>\n",
       "      <th>03/03/2020</th>\n",
       "      <th>04/03/2020</th>\n",
       "      <th>05/03/2020</th>\n",
       "      <th>...</th>\n",
       "      <th>13/03/2020</th>\n",
       "      <th>14/03/2020</th>\n",
       "      <th>15/03/2020</th>\n",
       "      <th>16/03/2020</th>\n",
       "      <th>17/03/2020</th>\n",
       "      <th>18/03/2020</th>\n",
       "      <th>19/03/2020</th>\n",
       "      <th>20/03/2020</th>\n",
       "      <th>21/03/2020</th>\n",
       "      <th>22/03/2020</th>\n",
       "    </tr>\n",
       "  </thead>\n",
       "  <tbody>\n",
       "    <tr>\n",
       "      <th>0</th>\n",
       "      <td>1</td>\n",
       "      <td>Andalucía</td>\n",
       "      <td>1</td>\n",
       "      <td>6</td>\n",
       "      <td>8</td>\n",
       "      <td>12</td>\n",
       "      <td>12</td>\n",
       "      <td>13</td>\n",
       "      <td>13</td>\n",
       "      <td>12</td>\n",
       "      <td>...</td>\n",
       "      <td>219</td>\n",
       "      <td>269</td>\n",
       "      <td>437</td>\n",
       "      <td>554</td>\n",
       "      <td>683</td>\n",
       "      <td>859</td>\n",
       "      <td>1008</td>\n",
       "      <td>1287</td>\n",
       "      <td>1515</td>\n",
       "      <td>1725</td>\n",
       "    </tr>\n",
       "    <tr>\n",
       "      <th>1</th>\n",
       "      <td>2</td>\n",
       "      <td>Aragón</td>\n",
       "      <td>0</td>\n",
       "      <td>1</td>\n",
       "      <td>1</td>\n",
       "      <td>0</td>\n",
       "      <td>0</td>\n",
       "      <td>0</td>\n",
       "      <td>0</td>\n",
       "      <td>1</td>\n",
       "      <td>...</td>\n",
       "      <td>80</td>\n",
       "      <td>80</td>\n",
       "      <td>147</td>\n",
       "      <td>174</td>\n",
       "      <td>207</td>\n",
       "      <td>226</td>\n",
       "      <td>281</td>\n",
       "      <td>360</td>\n",
       "      <td>424</td>\n",
       "      <td>532</td>\n",
       "    </tr>\n",
       "    <tr>\n",
       "      <th>2</th>\n",
       "      <td>3</td>\n",
       "      <td>Asturias</td>\n",
       "      <td>0</td>\n",
       "      <td>0</td>\n",
       "      <td>0</td>\n",
       "      <td>1</td>\n",
       "      <td>1</td>\n",
       "      <td>1</td>\n",
       "      <td>2</td>\n",
       "      <td>5</td>\n",
       "      <td>...</td>\n",
       "      <td>67</td>\n",
       "      <td>92</td>\n",
       "      <td>137</td>\n",
       "      <td>177</td>\n",
       "      <td>193</td>\n",
       "      <td>242</td>\n",
       "      <td>292</td>\n",
       "      <td>344</td>\n",
       "      <td>486</td>\n",
       "      <td>545</td>\n",
       "    </tr>\n",
       "    <tr>\n",
       "      <th>3</th>\n",
       "      <td>4</td>\n",
       "      <td>Baleares</td>\n",
       "      <td>1</td>\n",
       "      <td>1</td>\n",
       "      <td>2</td>\n",
       "      <td>2</td>\n",
       "      <td>2</td>\n",
       "      <td>2</td>\n",
       "      <td>5</td>\n",
       "      <td>6</td>\n",
       "      <td>...</td>\n",
       "      <td>30</td>\n",
       "      <td>28</td>\n",
       "      <td>28</td>\n",
       "      <td>73</td>\n",
       "      <td>92</td>\n",
       "      <td>112</td>\n",
       "      <td>169</td>\n",
       "      <td>203</td>\n",
       "      <td>246</td>\n",
       "      <td>331</td>\n",
       "    </tr>\n",
       "    <tr>\n",
       "      <th>4</th>\n",
       "      <td>5</td>\n",
       "      <td>Canarias</td>\n",
       "      <td>6</td>\n",
       "      <td>6</td>\n",
       "      <td>6</td>\n",
       "      <td>7</td>\n",
       "      <td>7</td>\n",
       "      <td>7</td>\n",
       "      <td>7</td>\n",
       "      <td>8</td>\n",
       "      <td>...</td>\n",
       "      <td>70</td>\n",
       "      <td>90</td>\n",
       "      <td>109</td>\n",
       "      <td>119</td>\n",
       "      <td>148</td>\n",
       "      <td>181</td>\n",
       "      <td>220</td>\n",
       "      <td>287</td>\n",
       "      <td>348</td>\n",
       "      <td>414</td>\n",
       "    </tr>\n",
       "  </tbody>\n",
       "</table>\n",
       "<p>5 rows × 27 columns</p>\n",
       "</div>"
      ],
      "text/plain": [
       "   cod_ine       CCAA  27/02/2020  28/02/2020  29/02/2020  01/03/2020  \\\n",
       "0        1  Andalucía           1           6           8          12   \n",
       "1        2     Aragón           0           1           1           0   \n",
       "2        3   Asturias           0           0           0           1   \n",
       "3        4   Baleares           1           1           2           2   \n",
       "4        5   Canarias           6           6           6           7   \n",
       "\n",
       "   02/03/2020  03/03/2020  04/03/2020  05/03/2020     ...      13/03/2020  \\\n",
       "0          12          13          13          12     ...             219   \n",
       "1           0           0           0           1     ...              80   \n",
       "2           1           1           2           5     ...              67   \n",
       "3           2           2           5           6     ...              30   \n",
       "4           7           7           7           8     ...              70   \n",
       "\n",
       "   14/03/2020  15/03/2020  16/03/2020  17/03/2020  18/03/2020  19/03/2020  \\\n",
       "0         269         437         554         683         859        1008   \n",
       "1          80         147         174         207         226         281   \n",
       "2          92         137         177         193         242         292   \n",
       "3          28          28          73          92         112         169   \n",
       "4          90         109         119         148         181         220   \n",
       "\n",
       "   20/03/2020  21/03/2020  22/03/2020  \n",
       "0        1287        1515        1725  \n",
       "1         360         424         532  \n",
       "2         344         486         545  \n",
       "3         203         246         331  \n",
       "4         287         348         414  \n",
       "\n",
       "[5 rows x 27 columns]"
      ]
     },
     "execution_count": 14,
     "metadata": {},
     "output_type": "execute_result"
    }
   ],
   "source": [
    "data_esp.head()"
   ]
  },
  {
   "cell_type": "markdown",
   "metadata": {},
   "source": [
    "Usamos la transpuesta:"
   ]
  },
  {
   "cell_type": "code",
   "execution_count": 15,
   "metadata": {},
   "outputs": [],
   "source": [
    "data_esp = data_esp.T"
   ]
  },
  {
   "cell_type": "markdown",
   "metadata": {},
   "source": [
    "Reemplazamos el encabezado:"
   ]
  },
  {
   "cell_type": "code",
   "execution_count": 16,
   "metadata": {},
   "outputs": [],
   "source": [
    "data_esp.columns = data_esp.iloc[1]"
   ]
  },
  {
   "cell_type": "markdown",
   "metadata": {},
   "source": [
    "Eliminamos el codigo y el nombre de CCAA (que ya lo tenemos en el encabezado)"
   ]
  },
  {
   "cell_type": "code",
   "execution_count": 17,
   "metadata": {},
   "outputs": [],
   "source": [
    "data_esp.drop(['cod_ine', 'CCAA'], inplace=True)"
   ]
  },
  {
   "cell_type": "markdown",
   "metadata": {},
   "source": [
    "Vista:"
   ]
  },
  {
   "cell_type": "code",
   "execution_count": 18,
   "metadata": {},
   "outputs": [
    {
     "data": {
      "text/html": [
       "<div>\n",
       "<style scoped>\n",
       "    .dataframe tbody tr th:only-of-type {\n",
       "        vertical-align: middle;\n",
       "    }\n",
       "\n",
       "    .dataframe tbody tr th {\n",
       "        vertical-align: top;\n",
       "    }\n",
       "\n",
       "    .dataframe thead th {\n",
       "        text-align: right;\n",
       "    }\n",
       "</style>\n",
       "<table border=\"1\" class=\"dataframe\">\n",
       "  <thead>\n",
       "    <tr style=\"text-align: right;\">\n",
       "      <th>CCAA</th>\n",
       "      <th>Andalucía</th>\n",
       "      <th>Aragón</th>\n",
       "      <th>Asturias</th>\n",
       "      <th>Baleares</th>\n",
       "      <th>Canarias</th>\n",
       "      <th>Cantabria</th>\n",
       "      <th>Castilla-La Mancha</th>\n",
       "      <th>Castilla y León</th>\n",
       "      <th>Cataluña</th>\n",
       "      <th>Ceuta</th>\n",
       "      <th>C. Valenciana</th>\n",
       "      <th>Extremadura</th>\n",
       "      <th>Galicia</th>\n",
       "      <th>Madrid</th>\n",
       "      <th>Melilla</th>\n",
       "      <th>Murcia</th>\n",
       "      <th>Navarra</th>\n",
       "      <th>País Vasco</th>\n",
       "      <th>La Rioja</th>\n",
       "      <th>Total</th>\n",
       "    </tr>\n",
       "  </thead>\n",
       "  <tbody>\n",
       "    <tr>\n",
       "      <th>27/02/2020</th>\n",
       "      <td>1</td>\n",
       "      <td>0</td>\n",
       "      <td>0</td>\n",
       "      <td>1</td>\n",
       "      <td>6</td>\n",
       "      <td>0</td>\n",
       "      <td>0</td>\n",
       "      <td>0</td>\n",
       "      <td>2</td>\n",
       "      <td>0</td>\n",
       "      <td>2</td>\n",
       "      <td>0</td>\n",
       "      <td>0</td>\n",
       "      <td>4</td>\n",
       "      <td>0</td>\n",
       "      <td>0</td>\n",
       "      <td>0</td>\n",
       "      <td>0</td>\n",
       "      <td>0</td>\n",
       "      <td>16</td>\n",
       "    </tr>\n",
       "    <tr>\n",
       "      <th>28/02/2020</th>\n",
       "      <td>6</td>\n",
       "      <td>1</td>\n",
       "      <td>0</td>\n",
       "      <td>1</td>\n",
       "      <td>6</td>\n",
       "      <td>0</td>\n",
       "      <td>0</td>\n",
       "      <td>2</td>\n",
       "      <td>3</td>\n",
       "      <td>0</td>\n",
       "      <td>8</td>\n",
       "      <td>0</td>\n",
       "      <td>0</td>\n",
       "      <td>5</td>\n",
       "      <td>0</td>\n",
       "      <td>0</td>\n",
       "      <td>0</td>\n",
       "      <td>0</td>\n",
       "      <td>0</td>\n",
       "      <td>32</td>\n",
       "    </tr>\n",
       "    <tr>\n",
       "      <th>29/02/2020</th>\n",
       "      <td>8</td>\n",
       "      <td>1</td>\n",
       "      <td>0</td>\n",
       "      <td>2</td>\n",
       "      <td>6</td>\n",
       "      <td>0</td>\n",
       "      <td>0</td>\n",
       "      <td>2</td>\n",
       "      <td>5</td>\n",
       "      <td>0</td>\n",
       "      <td>10</td>\n",
       "      <td>0</td>\n",
       "      <td>0</td>\n",
       "      <td>8</td>\n",
       "      <td>0</td>\n",
       "      <td>0</td>\n",
       "      <td>0</td>\n",
       "      <td>2</td>\n",
       "      <td>0</td>\n",
       "      <td>44</td>\n",
       "    </tr>\n",
       "    <tr>\n",
       "      <th>01/03/2020</th>\n",
       "      <td>12</td>\n",
       "      <td>0</td>\n",
       "      <td>1</td>\n",
       "      <td>2</td>\n",
       "      <td>7</td>\n",
       "      <td>1</td>\n",
       "      <td>1</td>\n",
       "      <td>3</td>\n",
       "      <td>6</td>\n",
       "      <td>0</td>\n",
       "      <td>15</td>\n",
       "      <td>4</td>\n",
       "      <td>0</td>\n",
       "      <td>10</td>\n",
       "      <td>0</td>\n",
       "      <td>0</td>\n",
       "      <td>1</td>\n",
       "      <td>3</td>\n",
       "      <td>0</td>\n",
       "      <td>66</td>\n",
       "    </tr>\n",
       "    <tr>\n",
       "      <th>02/03/2020</th>\n",
       "      <td>12</td>\n",
       "      <td>0</td>\n",
       "      <td>1</td>\n",
       "      <td>2</td>\n",
       "      <td>7</td>\n",
       "      <td>10</td>\n",
       "      <td>3</td>\n",
       "      <td>3</td>\n",
       "      <td>15</td>\n",
       "      <td>0</td>\n",
       "      <td>15</td>\n",
       "      <td>6</td>\n",
       "      <td>0</td>\n",
       "      <td>29</td>\n",
       "      <td>0</td>\n",
       "      <td>0</td>\n",
       "      <td>1</td>\n",
       "      <td>9</td>\n",
       "      <td>1</td>\n",
       "      <td>114</td>\n",
       "    </tr>\n",
       "  </tbody>\n",
       "</table>\n",
       "</div>"
      ],
      "text/plain": [
       "CCAA       Andalucía Aragón Asturias Baleares Canarias Cantabria  \\\n",
       "27/02/2020         1      0        0        1        6         0   \n",
       "28/02/2020         6      1        0        1        6         0   \n",
       "29/02/2020         8      1        0        2        6         0   \n",
       "01/03/2020        12      0        1        2        7         1   \n",
       "02/03/2020        12      0        1        2        7        10   \n",
       "\n",
       "CCAA       Castilla-La Mancha Castilla y León Cataluña Ceuta C. Valenciana  \\\n",
       "27/02/2020                  0               0        2     0             2   \n",
       "28/02/2020                  0               2        3     0             8   \n",
       "29/02/2020                  0               2        5     0            10   \n",
       "01/03/2020                  1               3        6     0            15   \n",
       "02/03/2020                  3               3       15     0            15   \n",
       "\n",
       "CCAA       Extremadura Galicia Madrid Melilla Murcia Navarra País Vasco  \\\n",
       "27/02/2020           0       0      4       0      0       0          0   \n",
       "28/02/2020           0       0      5       0      0       0          0   \n",
       "29/02/2020           0       0      8       0      0       0          2   \n",
       "01/03/2020           4       0     10       0      0       1          3   \n",
       "02/03/2020           6       0     29       0      0       1          9   \n",
       "\n",
       "CCAA       La Rioja Total  \n",
       "27/02/2020        0    16  \n",
       "28/02/2020        0    32  \n",
       "29/02/2020        0    44  \n",
       "01/03/2020        0    66  \n",
       "02/03/2020        1   114  "
      ]
     },
     "execution_count": 18,
     "metadata": {},
     "output_type": "execute_result"
    }
   ],
   "source": [
    "data_esp.head()"
   ]
  },
  {
   "cell_type": "code",
   "execution_count": null,
   "metadata": {},
   "outputs": [],
   "source": []
  },
  {
   "cell_type": "code",
   "execution_count": null,
   "metadata": {},
   "outputs": [],
   "source": []
  },
  {
   "cell_type": "markdown",
   "metadata": {},
   "source": [
    "# Setup"
   ]
  },
  {
   "cell_type": "markdown",
   "metadata": {},
   "source": [
    "Definimos una función para calcular el F:"
   ]
  },
  {
   "cell_type": "code",
   "execution_count": 19,
   "metadata": {},
   "outputs": [],
   "source": [
    "def calcular_f_diario(data: pd.DataFrame, work_col: str, date_col:str,\n",
    "                      date_col_format: str = \"%d/%m/%Y\") -> pd.DataFrame:\n",
    "\n",
    "    response = data[[date_col, work_col]].copy()\n",
    "    response.reset_index(inplace=True)\n",
    "    response[date_col] = pd.to_datetime(response[date_col], format=date_col_format)\n",
    "    response.sort_values(by=date_col, ascending=True, inplace=True)\n",
    "    \n",
    "    response.loc[0, 'F'] = 0\n",
    "    for current in range(1, len(response)):\n",
    "        # el F para hoy es: casos hoy / casos ayer \n",
    "        try:\n",
    "            response.loc[current, 'F'] = response.loc[current, work_col] / response.loc[ current -1 , work_col]\n",
    "        except ZeroDivisionError:\n",
    "            response.loc[current, 'F'] = 0\n",
    "        \n",
    "    response.set_index(date_col, inplace=True)\n",
    "    #response.sort_index(inplace=True)\n",
    "\n",
    "    return response\n",
    "    "
   ]
  },
  {
   "cell_type": "code",
   "execution_count": 20,
   "metadata": {},
   "outputs": [],
   "source": [
    "resp = calcular_f_diario(data, work_col='casos', date_col='dia')"
   ]
  },
  {
   "cell_type": "code",
   "execution_count": 21,
   "metadata": {},
   "outputs": [
    {
     "data": {
      "text/html": [
       "<div>\n",
       "<style scoped>\n",
       "    .dataframe tbody tr th:only-of-type {\n",
       "        vertical-align: middle;\n",
       "    }\n",
       "\n",
       "    .dataframe tbody tr th {\n",
       "        vertical-align: top;\n",
       "    }\n",
       "\n",
       "    .dataframe thead th {\n",
       "        text-align: right;\n",
       "    }\n",
       "</style>\n",
       "<table border=\"1\" class=\"dataframe\">\n",
       "  <thead>\n",
       "    <tr style=\"text-align: right;\">\n",
       "      <th></th>\n",
       "      <th>index</th>\n",
       "      <th>casos</th>\n",
       "      <th>F</th>\n",
       "    </tr>\n",
       "    <tr>\n",
       "      <th>dia</th>\n",
       "      <th></th>\n",
       "      <th></th>\n",
       "      <th></th>\n",
       "    </tr>\n",
       "  </thead>\n",
       "  <tbody>\n",
       "    <tr>\n",
       "      <th>2020-03-05</th>\n",
       "      <td>0</td>\n",
       "      <td>1</td>\n",
       "      <td>0.000000</td>\n",
       "    </tr>\n",
       "    <tr>\n",
       "      <th>2020-03-06</th>\n",
       "      <td>1</td>\n",
       "      <td>2</td>\n",
       "      <td>2.000000</td>\n",
       "    </tr>\n",
       "    <tr>\n",
       "      <th>2020-03-07</th>\n",
       "      <td>2</td>\n",
       "      <td>2</td>\n",
       "      <td>1.000000</td>\n",
       "    </tr>\n",
       "    <tr>\n",
       "      <th>2020-03-08</th>\n",
       "      <td>3</td>\n",
       "      <td>12</td>\n",
       "      <td>6.000000</td>\n",
       "    </tr>\n",
       "    <tr>\n",
       "      <th>2020-03-09</th>\n",
       "      <td>4</td>\n",
       "      <td>17</td>\n",
       "      <td>1.416667</td>\n",
       "    </tr>\n",
       "    <tr>\n",
       "      <th>2020-03-10</th>\n",
       "      <td>5</td>\n",
       "      <td>19</td>\n",
       "      <td>1.117647</td>\n",
       "    </tr>\n",
       "    <tr>\n",
       "      <th>2020-03-11</th>\n",
       "      <td>6</td>\n",
       "      <td>21</td>\n",
       "      <td>1.105263</td>\n",
       "    </tr>\n",
       "    <tr>\n",
       "      <th>2020-03-12</th>\n",
       "      <td>7</td>\n",
       "      <td>31</td>\n",
       "      <td>1.476190</td>\n",
       "    </tr>\n",
       "    <tr>\n",
       "      <th>2020-03-13</th>\n",
       "      <td>8</td>\n",
       "      <td>34</td>\n",
       "      <td>1.096774</td>\n",
       "    </tr>\n",
       "    <tr>\n",
       "      <th>2020-03-14</th>\n",
       "      <td>9</td>\n",
       "      <td>45</td>\n",
       "      <td>1.323529</td>\n",
       "    </tr>\n",
       "    <tr>\n",
       "      <th>2020-03-15</th>\n",
       "      <td>10</td>\n",
       "      <td>56</td>\n",
       "      <td>1.244444</td>\n",
       "    </tr>\n",
       "    <tr>\n",
       "      <th>2020-03-16</th>\n",
       "      <td>11</td>\n",
       "      <td>65</td>\n",
       "      <td>1.160714</td>\n",
       "    </tr>\n",
       "    <tr>\n",
       "      <th>2020-03-17</th>\n",
       "      <td>12</td>\n",
       "      <td>79</td>\n",
       "      <td>1.215385</td>\n",
       "    </tr>\n",
       "    <tr>\n",
       "      <th>2020-03-18</th>\n",
       "      <td>13</td>\n",
       "      <td>97</td>\n",
       "      <td>1.227848</td>\n",
       "    </tr>\n",
       "    <tr>\n",
       "      <th>2020-03-19</th>\n",
       "      <td>14</td>\n",
       "      <td>128</td>\n",
       "      <td>1.319588</td>\n",
       "    </tr>\n",
       "    <tr>\n",
       "      <th>2020-03-20</th>\n",
       "      <td>15</td>\n",
       "      <td>158</td>\n",
       "      <td>1.234375</td>\n",
       "    </tr>\n",
       "    <tr>\n",
       "      <th>2020-03-21</th>\n",
       "      <td>16</td>\n",
       "      <td>225</td>\n",
       "      <td>1.424051</td>\n",
       "    </tr>\n",
       "  </tbody>\n",
       "</table>\n",
       "</div>"
      ],
      "text/plain": [
       "            index  casos         F\n",
       "dia                               \n",
       "2020-03-05      0      1  0.000000\n",
       "2020-03-06      1      2  2.000000\n",
       "2020-03-07      2      2  1.000000\n",
       "2020-03-08      3     12  6.000000\n",
       "2020-03-09      4     17  1.416667\n",
       "2020-03-10      5     19  1.117647\n",
       "2020-03-11      6     21  1.105263\n",
       "2020-03-12      7     31  1.476190\n",
       "2020-03-13      8     34  1.096774\n",
       "2020-03-14      9     45  1.323529\n",
       "2020-03-15     10     56  1.244444\n",
       "2020-03-16     11     65  1.160714\n",
       "2020-03-17     12     79  1.215385\n",
       "2020-03-18     13     97  1.227848\n",
       "2020-03-19     14    128  1.319588\n",
       "2020-03-20     15    158  1.234375\n",
       "2020-03-21     16    225  1.424051"
      ]
     },
     "execution_count": 21,
     "metadata": {},
     "output_type": "execute_result"
    }
   ],
   "source": [
    "resp"
   ]
  },
  {
   "cell_type": "markdown",
   "metadata": {},
   "source": [
    "Definimos la función graficadora:"
   ]
  },
  {
   "cell_type": "code",
   "execution_count": 22,
   "metadata": {},
   "outputs": [],
   "source": [
    "def graficar_f(data: pd.DataFrame, work_column: str):\n",
    "    # retorna lo ejes para seguir dibujando en el plot\n",
    "\n",
    "    ax = plt.gca()\n",
    "    data[work_column].plot(label=f'valor {work_column}', figsize=(12, 8))\n",
    "    plt.axhline(data[work_column].mean(), color='g', linestyle='--', label=f'media {work_column}')\n",
    "\n",
    "    plt.ylabel(f'{work_column}')\n",
    "    plt.xlabel('día')\n",
    "    plt.legend()\n",
    "\n",
    "    plt.show()\n",
    "    #return ax"
   ]
  },
  {
   "cell_type": "code",
   "execution_count": 23,
   "metadata": {},
   "outputs": [
    {
     "data": {
      "image/png": "[encoded data removed]",
      "text/plain": [
       "<Figure size 864x576 with 1 Axes>"
      ]
     },
     "metadata": {},
     "output_type": "display_data"
    }
   ],
   "source": [
    "graficar_f(resp, 'F')"
   ]
  },
  {
   "cell_type": "markdown",
   "metadata": {},
   "source": [
    "# Graficar España"
   ]
  },
  {
   "cell_type": "markdown",
   "metadata": {},
   "source": [
    "Probar con una CCAA de España:"
   ]
  },
  {
   "cell_type": "code",
   "execution_count": 24,
   "metadata": {},
   "outputs": [],
   "source": [
    "data_esp['dia'] = data_esp.index.values\n",
    "resp = calcular_f_diario(data_esp, 'Madrid', 'dia')"
   ]
  },
  {
   "cell_type": "code",
   "execution_count": 25,
   "metadata": {},
   "outputs": [
    {
     "data": {
      "image/png": "[encoded data removed]",
      "text/plain": [
       "<Figure size 864x576 with 1 Axes>"
      ]
     },
     "metadata": {},
     "output_type": "display_data"
    }
   ],
   "source": [
    "graficar_f(resp, 'F')"
   ]
  },
  {
   "cell_type": "markdown",
   "metadata": {},
   "source": [
    "Según https://covid19.isciii.es/ al momento, las CCAA con mas casos son:\n",
    "    - Cataluña\t4704\n",
    "    - País Vasco\t2097\n",
    "        \n",
    "las de menos:\n",
    "    - Ceuta\t5\n",
    "    - Melilla\t25"
   ]
  },
  {
   "cell_type": "code",
   "execution_count": 26,
   "metadata": {},
   "outputs": [
    {
     "data": {
      "text/plain": [
       "array(['Andalucía', 'Aragón', 'Asturias', 'Baleares', 'Canarias',\n",
       "       'Cantabria', 'Castilla-La Mancha', 'Castilla y León', 'Cataluña',\n",
       "       'Ceuta', 'C. Valenciana', 'Extremadura', 'Galicia', 'Madrid',\n",
       "       'Melilla', 'Murcia', 'Navarra', 'País Vasco', 'La Rioja', 'Total',\n",
       "       'dia'], dtype=object)"
      ]
     },
     "execution_count": 26,
     "metadata": {},
     "output_type": "execute_result"
    }
   ],
   "source": [
    "data_esp.columns.values"
   ]
  },
  {
   "cell_type": "markdown",
   "metadata": {},
   "source": [
    "## Evolución F en Cataluña:"
   ]
  },
  {
   "cell_type": "code",
   "execution_count": 27,
   "metadata": {},
   "outputs": [
    {
     "data": {
      "image/png": "[encoded data removed]",
      "text/plain": [
       "<Figure size 864x576 with 1 Axes>"
      ]
     },
     "metadata": {},
     "output_type": "display_data"
    }
   ],
   "source": [
    "resp = calcular_f_diario(data_esp, 'Cataluña', 'dia')\n",
    "graficar_f(resp, 'F')"
   ]
  },
  {
   "cell_type": "markdown",
   "metadata": {},
   "source": [
    "## Evolución F en País Vasco:"
   ]
  },
  {
   "cell_type": "code",
   "execution_count": 28,
   "metadata": {},
   "outputs": [
    {
     "data": {
      "image/png": "[encoded data removed]",
      "text/plain": [
       "<Figure size 864x576 with 1 Axes>"
      ]
     },
     "metadata": {},
     "output_type": "display_data"
    }
   ],
   "source": [
    "resp = calcular_f_diario(data_esp, 'País Vasco', 'dia')\n",
    "graficar_f(resp, 'F')"
   ]
  },
  {
   "cell_type": "markdown",
   "metadata": {},
   "source": [
    "## Evolución F en Ceuta:"
   ]
  },
  {
   "cell_type": "code",
   "execution_count": 29,
   "metadata": {},
   "outputs": [
    {
     "data": {
      "image/png": "[encoded data removed]",
      "text/plain": [
       "<Figure size 864x576 with 1 Axes>"
      ]
     },
     "metadata": {},
     "output_type": "display_data"
    }
   ],
   "source": [
    "resp = calcular_f_diario(data_esp, 'Ceuta', 'dia')\n",
    "graficar_f(resp, 'F')"
   ]
  },
  {
   "cell_type": "markdown",
   "metadata": {},
   "source": [
    "## Evolución F en Melilla:"
   ]
  },
  {
   "cell_type": "code",
   "execution_count": 30,
   "metadata": {},
   "outputs": [
    {
     "data": {
      "image/png": "[encoded data removed]",
      "text/plain": [
       "<Figure size 864x576 with 1 Axes>"
      ]
     },
     "metadata": {},
     "output_type": "display_data"
    }
   ],
   "source": [
    "resp = calcular_f_diario(data_esp, 'Melilla', 'dia')\n",
    "graficar_f(resp, 'F')"
   ]
  },
  {
   "cell_type": "markdown",
   "metadata": {},
   "source": [
    "# Toda España:"
   ]
  },
  {
   "cell_type": "code",
   "execution_count": null,
   "metadata": {},
   "outputs": [],
   "source": []
  },
  {
   "cell_type": "code",
   "execution_count": null,
   "metadata": {},
   "outputs": [],
   "source": []
  },
  {
   "cell_type": "code",
   "execution_count": null,
   "metadata": {},
   "outputs": [],
   "source": []
  }
 ],
 "metadata": {
  "kernelspec": {
   "display_name": "Python 3",
   "language": "python",
   "name": "python3"
  },
  "language_info": {
   "codemirror_mode": {
    "name": "ipython",
    "version": 3
   },
   "file_extension": ".py",
   "mimetype": "text/x-python",
   "name": "python",
   "nbconvert_exporter": "python",
   "pygments_lexer": "ipython3",
   "version": "3.6.5"
  }
 },
 "nbformat": 4,
 "nbformat_minor": 2
}
