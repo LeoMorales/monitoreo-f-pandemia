{
 "cells": [
  {
   "cell_type": "markdown",
   "metadata": {},
   "source": [
    "# Evolución diaria del factor problemático (F) de la pandemia Argentina\n",
    "\n",
    "F = (Nivel de exposición * probabilidad de contagio + 1) \n",
    "\n",
    "I<sub>n+1</sub> = I<sub>n</sub> * F\n",
    "\n",
    "donde I<sub>n+1</sub> es la cantidad de casos para un día mientras que I<sub>n</sub> es la cantidad de casos para el día anterior, entonces\n",
    "\n",
    "&rarr; F = I<sub>n+1</sub> / I<sub>n</sub>\n",
    "\n"
   ]
  },
  {
   "cell_type": "code",
   "execution_count": 1,
   "metadata": {},
   "outputs": [],
   "source": [
    "%matplotlib inline"
   ]
  },
  {
   "cell_type": "code",
   "execution_count": 2,
   "metadata": {},
   "outputs": [],
   "source": [
    "import pandas as pd"
   ]
  },
  {
   "cell_type": "markdown",
   "metadata": {},
   "source": [
    "## Lectura de los datos\n",
    "\n",
    "Disponible en: https://docs.google.com/spreadsheets/d/1Oso4ZC_mMOwtv6p5u65VpdzJQxnmF8bu6kxVygku_sc/edit?usp=sharing\n",
    "&rarr; descargar en la carpeta __input__"
   ]
  },
  {
   "cell_type": "code",
   "execution_count": 3,
   "metadata": {},
   "outputs": [],
   "source": [
    "data = pd.read_csv('input/covid19-Argentina - Hoja 1.csv')"
   ]
  },
  {
   "cell_type": "markdown",
   "metadata": {},
   "source": [
    "Vista previa:"
   ]
  },
  {
   "cell_type": "code",
   "execution_count": 4,
   "metadata": {},
   "outputs": [
    {
     "data": {
      "text/html": [
       "<div>\n",
       "<style scoped>\n",
       "    .dataframe tbody tr th:only-of-type {\n",
       "        vertical-align: middle;\n",
       "    }\n",
       "\n",
       "    .dataframe tbody tr th {\n",
       "        vertical-align: top;\n",
       "    }\n",
       "\n",
       "    .dataframe thead th {\n",
       "        text-align: right;\n",
       "    }\n",
       "</style>\n",
       "<table border=\"1\" class=\"dataframe\">\n",
       "  <thead>\n",
       "    <tr style=\"text-align: right;\">\n",
       "      <th></th>\n",
       "      <th>dia</th>\n",
       "      <th>casos</th>\n",
       "      <th>fallecidos</th>\n",
       "    </tr>\n",
       "  </thead>\n",
       "  <tbody>\n",
       "    <tr>\n",
       "      <th>0</th>\n",
       "      <td>05/03/2020</td>\n",
       "      <td>1</td>\n",
       "      <td>0</td>\n",
       "    </tr>\n",
       "    <tr>\n",
       "      <th>1</th>\n",
       "      <td>06/03/2020</td>\n",
       "      <td>2</td>\n",
       "      <td>0</td>\n",
       "    </tr>\n",
       "    <tr>\n",
       "      <th>2</th>\n",
       "      <td>07/03/2020</td>\n",
       "      <td>2</td>\n",
       "      <td>0</td>\n",
       "    </tr>\n",
       "    <tr>\n",
       "      <th>3</th>\n",
       "      <td>08/03/2020</td>\n",
       "      <td>12</td>\n",
       "      <td>0</td>\n",
       "    </tr>\n",
       "    <tr>\n",
       "      <th>4</th>\n",
       "      <td>09/03/2020</td>\n",
       "      <td>17</td>\n",
       "      <td>0</td>\n",
       "    </tr>\n",
       "  </tbody>\n",
       "</table>\n",
       "</div>"
      ],
      "text/plain": [
       "          dia  casos  fallecidos\n",
       "0  05/03/2020      1           0\n",
       "1  06/03/2020      2           0\n",
       "2  07/03/2020      2           0\n",
       "3  08/03/2020     12           0\n",
       "4  09/03/2020     17           0"
      ]
     },
     "execution_count": 4,
     "metadata": {},
     "output_type": "execute_result"
    }
   ],
   "source": [
    "data.head()"
   ]
  },
  {
   "cell_type": "markdown",
   "metadata": {},
   "source": [
    "## Calcular Factor problemático"
   ]
  },
  {
   "cell_type": "code",
   "execution_count": 5,
   "metadata": {},
   "outputs": [],
   "source": [
    "data.loc[0, 'F'] = 0"
   ]
  },
  {
   "cell_type": "code",
   "execution_count": 6,
   "metadata": {},
   "outputs": [],
   "source": [
    "for hoy in range(1, len(data)):\n",
    "    # el F para hoy es: casos hoy / casos ayer \n",
    "    data.loc[hoy, 'F'] = data.loc[hoy, 'casos'] / data.loc[ hoy -1 , 'casos']"
   ]
  },
  {
   "cell_type": "code",
   "execution_count": 7,
   "metadata": {},
   "outputs": [
    {
     "data": {
      "text/html": [
       "<div>\n",
       "<style scoped>\n",
       "    .dataframe tbody tr th:only-of-type {\n",
       "        vertical-align: middle;\n",
       "    }\n",
       "\n",
       "    .dataframe tbody tr th {\n",
       "        vertical-align: top;\n",
       "    }\n",
       "\n",
       "    .dataframe thead th {\n",
       "        text-align: right;\n",
       "    }\n",
       "</style>\n",
       "<table border=\"1\" class=\"dataframe\">\n",
       "  <thead>\n",
       "    <tr style=\"text-align: right;\">\n",
       "      <th></th>\n",
       "      <th>dia</th>\n",
       "      <th>casos</th>\n",
       "      <th>fallecidos</th>\n",
       "      <th>F</th>\n",
       "    </tr>\n",
       "  </thead>\n",
       "  <tbody>\n",
       "    <tr>\n",
       "      <th>0</th>\n",
       "      <td>05/03/2020</td>\n",
       "      <td>1</td>\n",
       "      <td>0</td>\n",
       "      <td>0.000000</td>\n",
       "    </tr>\n",
       "    <tr>\n",
       "      <th>1</th>\n",
       "      <td>06/03/2020</td>\n",
       "      <td>2</td>\n",
       "      <td>0</td>\n",
       "      <td>2.000000</td>\n",
       "    </tr>\n",
       "    <tr>\n",
       "      <th>2</th>\n",
       "      <td>07/03/2020</td>\n",
       "      <td>2</td>\n",
       "      <td>0</td>\n",
       "      <td>1.000000</td>\n",
       "    </tr>\n",
       "    <tr>\n",
       "      <th>3</th>\n",
       "      <td>08/03/2020</td>\n",
       "      <td>12</td>\n",
       "      <td>0</td>\n",
       "      <td>6.000000</td>\n",
       "    </tr>\n",
       "    <tr>\n",
       "      <th>4</th>\n",
       "      <td>09/03/2020</td>\n",
       "      <td>17</td>\n",
       "      <td>0</td>\n",
       "      <td>1.416667</td>\n",
       "    </tr>\n",
       "    <tr>\n",
       "      <th>5</th>\n",
       "      <td>10/03/2020</td>\n",
       "      <td>19</td>\n",
       "      <td>1</td>\n",
       "      <td>1.117647</td>\n",
       "    </tr>\n",
       "    <tr>\n",
       "      <th>6</th>\n",
       "      <td>11/03/2020</td>\n",
       "      <td>21</td>\n",
       "      <td>1</td>\n",
       "      <td>1.105263</td>\n",
       "    </tr>\n",
       "    <tr>\n",
       "      <th>7</th>\n",
       "      <td>12/03/2020</td>\n",
       "      <td>31</td>\n",
       "      <td>1</td>\n",
       "      <td>1.476190</td>\n",
       "    </tr>\n",
       "    <tr>\n",
       "      <th>8</th>\n",
       "      <td>13/03/2020</td>\n",
       "      <td>34</td>\n",
       "      <td>2</td>\n",
       "      <td>1.096774</td>\n",
       "    </tr>\n",
       "    <tr>\n",
       "      <th>9</th>\n",
       "      <td>14/03/2020</td>\n",
       "      <td>45</td>\n",
       "      <td>2</td>\n",
       "      <td>1.323529</td>\n",
       "    </tr>\n",
       "    <tr>\n",
       "      <th>10</th>\n",
       "      <td>15/03/2020</td>\n",
       "      <td>56</td>\n",
       "      <td>2</td>\n",
       "      <td>1.244444</td>\n",
       "    </tr>\n",
       "    <tr>\n",
       "      <th>11</th>\n",
       "      <td>16/03/2020</td>\n",
       "      <td>65</td>\n",
       "      <td>2</td>\n",
       "      <td>1.160714</td>\n",
       "    </tr>\n",
       "    <tr>\n",
       "      <th>12</th>\n",
       "      <td>17/03/2020</td>\n",
       "      <td>79</td>\n",
       "      <td>2</td>\n",
       "      <td>1.215385</td>\n",
       "    </tr>\n",
       "    <tr>\n",
       "      <th>13</th>\n",
       "      <td>18/03/2020</td>\n",
       "      <td>97</td>\n",
       "      <td>2</td>\n",
       "      <td>1.227848</td>\n",
       "    </tr>\n",
       "    <tr>\n",
       "      <th>14</th>\n",
       "      <td>19/03/2020</td>\n",
       "      <td>128</td>\n",
       "      <td>3</td>\n",
       "      <td>1.319588</td>\n",
       "    </tr>\n",
       "    <tr>\n",
       "      <th>15</th>\n",
       "      <td>20/03/2020</td>\n",
       "      <td>158</td>\n",
       "      <td>3</td>\n",
       "      <td>1.234375</td>\n",
       "    </tr>\n",
       "  </tbody>\n",
       "</table>\n",
       "</div>"
      ],
      "text/plain": [
       "           dia  casos  fallecidos         F\n",
       "0   05/03/2020      1           0  0.000000\n",
       "1   06/03/2020      2           0  2.000000\n",
       "2   07/03/2020      2           0  1.000000\n",
       "3   08/03/2020     12           0  6.000000\n",
       "4   09/03/2020     17           0  1.416667\n",
       "5   10/03/2020     19           1  1.117647\n",
       "6   11/03/2020     21           1  1.105263\n",
       "7   12/03/2020     31           1  1.476190\n",
       "8   13/03/2020     34           2  1.096774\n",
       "9   14/03/2020     45           2  1.323529\n",
       "10  15/03/2020     56           2  1.244444\n",
       "11  16/03/2020     65           2  1.160714\n",
       "12  17/03/2020     79           2  1.215385\n",
       "13  18/03/2020     97           2  1.227848\n",
       "14  19/03/2020    128           3  1.319588\n",
       "15  20/03/2020    158           3  1.234375"
      ]
     },
     "execution_count": 7,
     "metadata": {},
     "output_type": "execute_result"
    }
   ],
   "source": [
    "data"
   ]
  },
  {
   "cell_type": "markdown",
   "metadata": {},
   "source": [
    "## Graficar"
   ]
  },
  {
   "cell_type": "code",
   "execution_count": 15,
   "metadata": {},
   "outputs": [
    {
     "data": {
      "image/png": "[encoded data removed]",
      "text/plain": [
       "<Figure size 864x576 with 1 Axes>"
      ]
     },
     "metadata": {
      "needs_background": "light"
     },
     "output_type": "display_data"
    }
   ],
   "source": [
    "import matplotlib.pyplot as plt\n",
    "ax = plt.gca()\n",
    "\n",
    "data.F.plot(label='valor F', figsize=(12, 8))\n",
    "plt.axhline(data.F.mean(), color='g', linestyle='--', label='media')\n",
    "\n",
    "plt.ylabel('F')\n",
    "plt.xlabel('día')\n",
    "plt.legend()\n",
    "\n",
    "plt.show()"
   ]
  },
  {
   "cell_type": "raw",
   "metadata": {},
   "source": [
    "\n",
    "\n",
    "\n"
   ]
  },
  {
   "cell_type": "code",
   "execution_count": null,
   "metadata": {},
   "outputs": [],
   "source": []
  },
  {
   "cell_type": "code",
   "execution_count": 9,
   "metadata": {},
   "outputs": [],
   "source": [
    "data.loc[0, 'evolucion_de_la_media_de_F'] = data.loc[0, 'F']"
   ]
  },
  {
   "cell_type": "code",
   "execution_count": 10,
   "metadata": {},
   "outputs": [],
   "source": [
    "for hoy in range(1, len(data)):\n",
    "    # el F para hoy es: casos hoy / casos ayer \n",
    "    data.loc[hoy, 'evolucion_de_la_media_de_F'] = data.loc[0:hoy, 'F'].mean()"
   ]
  },
  {
   "cell_type": "code",
   "execution_count": 11,
   "metadata": {},
   "outputs": [
    {
     "data": {
      "text/html": [
       "<div>\n",
       "<style scoped>\n",
       "    .dataframe tbody tr th:only-of-type {\n",
       "        vertical-align: middle;\n",
       "    }\n",
       "\n",
       "    .dataframe tbody tr th {\n",
       "        vertical-align: top;\n",
       "    }\n",
       "\n",
       "    .dataframe thead th {\n",
       "        text-align: right;\n",
       "    }\n",
       "</style>\n",
       "<table border=\"1\" class=\"dataframe\">\n",
       "  <thead>\n",
       "    <tr style=\"text-align: right;\">\n",
       "      <th></th>\n",
       "      <th>dia</th>\n",
       "      <th>casos</th>\n",
       "      <th>fallecidos</th>\n",
       "      <th>F</th>\n",
       "      <th>evolucion_de_la_media_de_F</th>\n",
       "    </tr>\n",
       "  </thead>\n",
       "  <tbody>\n",
       "    <tr>\n",
       "      <th>0</th>\n",
       "      <td>05/03/2020</td>\n",
       "      <td>1</td>\n",
       "      <td>0</td>\n",
       "      <td>0.000000</td>\n",
       "      <td>0.000000</td>\n",
       "    </tr>\n",
       "    <tr>\n",
       "      <th>1</th>\n",
       "      <td>06/03/2020</td>\n",
       "      <td>2</td>\n",
       "      <td>0</td>\n",
       "      <td>2.000000</td>\n",
       "      <td>1.000000</td>\n",
       "    </tr>\n",
       "    <tr>\n",
       "      <th>2</th>\n",
       "      <td>07/03/2020</td>\n",
       "      <td>2</td>\n",
       "      <td>0</td>\n",
       "      <td>1.000000</td>\n",
       "      <td>1.000000</td>\n",
       "    </tr>\n",
       "    <tr>\n",
       "      <th>3</th>\n",
       "      <td>08/03/2020</td>\n",
       "      <td>12</td>\n",
       "      <td>0</td>\n",
       "      <td>6.000000</td>\n",
       "      <td>2.250000</td>\n",
       "    </tr>\n",
       "    <tr>\n",
       "      <th>4</th>\n",
       "      <td>09/03/2020</td>\n",
       "      <td>17</td>\n",
       "      <td>0</td>\n",
       "      <td>1.416667</td>\n",
       "      <td>2.083333</td>\n",
       "    </tr>\n",
       "    <tr>\n",
       "      <th>5</th>\n",
       "      <td>10/03/2020</td>\n",
       "      <td>19</td>\n",
       "      <td>1</td>\n",
       "      <td>1.117647</td>\n",
       "      <td>1.922386</td>\n",
       "    </tr>\n",
       "    <tr>\n",
       "      <th>6</th>\n",
       "      <td>11/03/2020</td>\n",
       "      <td>21</td>\n",
       "      <td>1</td>\n",
       "      <td>1.105263</td>\n",
       "      <td>1.805654</td>\n",
       "    </tr>\n",
       "    <tr>\n",
       "      <th>7</th>\n",
       "      <td>12/03/2020</td>\n",
       "      <td>31</td>\n",
       "      <td>1</td>\n",
       "      <td>1.476190</td>\n",
       "      <td>1.764471</td>\n",
       "    </tr>\n",
       "    <tr>\n",
       "      <th>8</th>\n",
       "      <td>13/03/2020</td>\n",
       "      <td>34</td>\n",
       "      <td>2</td>\n",
       "      <td>1.096774</td>\n",
       "      <td>1.690282</td>\n",
       "    </tr>\n",
       "    <tr>\n",
       "      <th>9</th>\n",
       "      <td>14/03/2020</td>\n",
       "      <td>45</td>\n",
       "      <td>2</td>\n",
       "      <td>1.323529</td>\n",
       "      <td>1.653607</td>\n",
       "    </tr>\n",
       "    <tr>\n",
       "      <th>10</th>\n",
       "      <td>15/03/2020</td>\n",
       "      <td>56</td>\n",
       "      <td>2</td>\n",
       "      <td>1.244444</td>\n",
       "      <td>1.616410</td>\n",
       "    </tr>\n",
       "    <tr>\n",
       "      <th>11</th>\n",
       "      <td>16/03/2020</td>\n",
       "      <td>65</td>\n",
       "      <td>2</td>\n",
       "      <td>1.160714</td>\n",
       "      <td>1.578436</td>\n",
       "    </tr>\n",
       "    <tr>\n",
       "      <th>12</th>\n",
       "      <td>17/03/2020</td>\n",
       "      <td>79</td>\n",
       "      <td>2</td>\n",
       "      <td>1.215385</td>\n",
       "      <td>1.550509</td>\n",
       "    </tr>\n",
       "    <tr>\n",
       "      <th>13</th>\n",
       "      <td>18/03/2020</td>\n",
       "      <td>97</td>\n",
       "      <td>2</td>\n",
       "      <td>1.227848</td>\n",
       "      <td>1.527462</td>\n",
       "    </tr>\n",
       "    <tr>\n",
       "      <th>14</th>\n",
       "      <td>19/03/2020</td>\n",
       "      <td>128</td>\n",
       "      <td>3</td>\n",
       "      <td>1.319588</td>\n",
       "      <td>1.513603</td>\n",
       "    </tr>\n",
       "    <tr>\n",
       "      <th>15</th>\n",
       "      <td>20/03/2020</td>\n",
       "      <td>158</td>\n",
       "      <td>3</td>\n",
       "      <td>1.234375</td>\n",
       "      <td>1.496152</td>\n",
       "    </tr>\n",
       "  </tbody>\n",
       "</table>\n",
       "</div>"
      ],
      "text/plain": [
       "           dia  casos  fallecidos         F  evolucion_de_la_media_de_F\n",
       "0   05/03/2020      1           0  0.000000                    0.000000\n",
       "1   06/03/2020      2           0  2.000000                    1.000000\n",
       "2   07/03/2020      2           0  1.000000                    1.000000\n",
       "3   08/03/2020     12           0  6.000000                    2.250000\n",
       "4   09/03/2020     17           0  1.416667                    2.083333\n",
       "5   10/03/2020     19           1  1.117647                    1.922386\n",
       "6   11/03/2020     21           1  1.105263                    1.805654\n",
       "7   12/03/2020     31           1  1.476190                    1.764471\n",
       "8   13/03/2020     34           2  1.096774                    1.690282\n",
       "9   14/03/2020     45           2  1.323529                    1.653607\n",
       "10  15/03/2020     56           2  1.244444                    1.616410\n",
       "11  16/03/2020     65           2  1.160714                    1.578436\n",
       "12  17/03/2020     79           2  1.215385                    1.550509\n",
       "13  18/03/2020     97           2  1.227848                    1.527462\n",
       "14  19/03/2020    128           3  1.319588                    1.513603\n",
       "15  20/03/2020    158           3  1.234375                    1.496152"
      ]
     },
     "execution_count": 11,
     "metadata": {},
     "output_type": "execute_result"
    }
   ],
   "source": [
    "data"
   ]
  },
  {
   "cell_type": "code",
   "execution_count": 16,
   "metadata": {},
   "outputs": [
    {
     "data": {
      "image/png": "[encoded data removed]",
      "text/plain": [
       "<Figure size 864x576 with 1 Axes>"
      ]
     },
     "metadata": {
      "needs_background": "light"
     },
     "output_type": "display_data"
    }
   ],
   "source": [
    "import matplotlib.pyplot as plt\n",
    "ax = plt.gca()\n",
    "\n",
    "data.F.plot(label='valor F', figsize=(12, 8))\n",
    "data.evolucion_de_la_media_de_F.plot(label='media diaria de F')\n",
    "\n",
    "plt.axhline(data.F.mean(), color='g', linestyle='--', label='media F')\n",
    "\n",
    "plt.ylabel('F')\n",
    "plt.xlabel('día')\n",
    "plt.legend()\n",
    "\n",
    "plt.show()"
   ]
  },
  {
   "cell_type": "markdown",
   "metadata": {},
   "source": [
    "WIP:\n",
    "- Cargar datasets de otros países\n",
    "- ..."
   ]
  },
  {
   "cell_type": "code",
   "execution_count": null,
   "metadata": {},
   "outputs": [],
   "source": []
  }
 ],
 "metadata": {
  "kernelspec": {
   "display_name": "Python 3",
   "language": "python",
   "name": "python3"
  },
  "language_info": {
   "codemirror_mode": {
    "name": "ipython",
    "version": 3
   },
   "file_extension": ".py",
   "mimetype": "text/x-python",
   "name": "python",
   "nbconvert_exporter": "python",
   "pygments_lexer": "ipython3",
   "version": "3.6.5"
  }
 },
 "nbformat": 4,
 "nbformat_minor": 2
}
